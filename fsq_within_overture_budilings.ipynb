{
  "cells": [
    {
      "cell_type": "markdown",
      "metadata": {
        "id": "view-in-github",
        "colab_type": "text"
      },
      "source": [
        "<a href=\"https://colab.research.google.com/github/kentstephen/duckdb_h3/blob/main/fsq_within_overture_budilings.ipynb\" target=\"_parent\"><img src=\"https://colab.research.google.com/assets/colab-badge.svg\" alt=\"Open In Colab\"/></a>"
      ]
    },
    {
      "cell_type": "markdown",
      "source": [
        "# Determine Foursquare POIs Inside of Overture Buildings with Fused, DuckDB and H3"
      ],
      "metadata": {
        "id": "KkgEDNENtvJ0"
      }
    },
    {
      "cell_type": "code",
      "execution_count": null,
      "metadata": {
        "id": "JsSWFiOTshOf"
      },
      "outputs": [],
      "source": [
        "! pip install duckdb pandas geopandas shapely fused affine pydeck h3 -q"
      ]
    },
    {
      "cell_type": "code",
      "execution_count": null,
      "metadata": {
        "id": "NfKaY-RPshOg"
      },
      "outputs": [],
      "source": [
        "import fused\n",
        "import pandas as pd\n",
        "import geopandas as gpd\n",
        "import shapely\n",
        "import h3\n",
        "import pydeck as pdk"
      ]
    },
    {
      "cell_type": "markdown",
      "metadata": {
        "id": "yupEBNDTshOg"
      },
      "source": [
        "I used this [bounding box generator](https://boundingbox.klokantech.com/) to find the bounds for the French Quarter in New Orleans. If you want to try a different AOI: select CSV and paste below."
      ]
    },
    {
      "cell_type": "code",
      "execution_count": null,
      "metadata": {
        "id": "26XEw2tBshOh"
      },
      "outputs": [],
      "source": [
        "bounds = gpd.GeoDataFrame(\n",
        "    geometry=[shapely.box(-90.093538,29.938505,-90.043702,29.984352)], # New Orleans, French Quarter\n",
        "    crs=4326\n",
        ")"
      ]
    },
    {
      "cell_type": "markdown",
      "source": [
        "This uses the [Fused.io](https://fused.io) UDF to obtain the Foursquare data from New Orleans. We create lat and lng columns for H3 and preserve the geometry as WKT."
      ],
      "metadata": {
        "id": "VDsua6wfuLSj"
      }
    },
    {
      "cell_type": "code",
      "execution_count": null,
      "metadata": {
        "colab": {
          "base_uri": "https://localhost:8080/"
        },
        "id": "N8QTi1p3shOh",
        "outputId": "4a081dc6-ab2d-4498-8ba6-20785d43d649"
      },
      "outputs": [
        {
          "output_type": "stream",
          "name": "stdout",
          "text": [
            "           fsq_category_ids                                          geometry  \\\n",
            "0  4bf58dd8d48988d100941735  POINT (-90.0677140011325719 29.9525342796529017)   \n",
            "1  4bf58dd8d48988d100941735  POINT (-90.0673611595095167 29.9529434436182527)   \n",
            "2  4bf58dd8d48988d100941735  POINT (-90.0626904000000081 29.9475211500000000)   \n",
            "3  4bf58dd8d48988d100941735  POINT (-90.0646069999999952 29.9394689999999990)   \n",
            "4  4bf58dd8d48988d100941735  POINT (-90.0673754272572893 29.9528779291416996)   \n",
            "\n",
            "                                   name                level1_category_name  \\\n",
            "0       Galerie 4 - New Orleans Marriot  Business and Professional Services   \n",
            "1  Carondelet Room- New Orleans Marriot  Business and Professional Services   \n",
            "2               ACUHO-I Opening Session  Business and Professional Services   \n",
            "3      Microsoft TechEd 2010 PASS Booth  Business and Professional Services   \n",
            "4              NRECA Connect Conference  Business and Professional Services   \n",
            "\n",
            "  level2_category_name level3_category_name        lat        lng  \n",
            "0    Convention Center      Conference Room  29.952534 -90.067714  \n",
            "1    Convention Center      Conference Room  29.952943 -90.067361  \n",
            "2    Convention Center      Conference Room  29.947521 -90.062690  \n",
            "3    Convention Center      Conference Room  29.939469 -90.064607  \n",
            "4    Convention Center      Conference Room  29.952878 -90.067375  \n"
          ]
        },
        {
          "output_type": "stream",
          "name": "stderr",
          "text": [
            "<ipython-input-33-567a3a56f64c>:9: UserWarning: Geometry column does not contain geometry.\n",
            "  gdf['geometry'] = gdf['geometry'].apply(shapely.wkt.dumps)\n"
          ]
        }
      ],
      "source": [
        "def get_fsq(bounds):\n",
        "    gdf = fused.run(\"UDF_Foursquare_Open_Source_Places\", bounds=bounds, min_zoom=0)\n",
        "    if gdf is None or gdf.empty:\n",
        "        return pd.DataFrame({})\n",
        "    if gdf.crs != \"EPSG:4326\":\n",
        "          gdf.to_crs(\"EPSG:4326\")\n",
        "    gdf['lat'] = gdf.geometry.y\n",
        "    gdf['lng'] = gdf.geometry.x\n",
        "    gdf['geometry'] = gdf['geometry'].apply(shapely.wkt.dumps)\n",
        "    return pd.DataFrame(gdf)\n",
        "df_fsq = get_fsq(bounds)\n",
        "print(df_fsq.head())"
      ]
    },
    {
      "cell_type": "markdown",
      "source": [
        "Same for Overture Buildings."
      ],
      "metadata": {
        "id": "4QqcIQL-udpB"
      }
    },
    {
      "cell_type": "code",
      "execution_count": null,
      "metadata": {
        "colab": {
          "base_uri": "https://localhost:8080/"
        },
        "id": "cQ7yy5MishOh",
        "outputId": "106e212d-ea27-4a47-d141-cd2dfaa9c5bc"
      },
      "outputs": [
        {
          "output_type": "stream",
          "name": "stderr",
          "text": [
            "2025-03-09 22:00:40.475 | DEBUG    | fused.core._cache:_read_cache_log:237 - Recent cache entry found in /tmp/cached_data/table_to_tile/data_9f836d0516619504bd3b8e716db7a572b15d8c9759c62392bad4e657747d107e/index.log: '2025-03-10T08:57:50.414914+00:00', 'ff00bc5b-fcec-44f1-99b8-65189dede0ed', 'd'\n",
            "2025-03-09 22:00:40.477 | DEBUG    | fused.core._cache:_cache:338 - Detected status is d and expiration is 2025-03-10 08:57:50.414914+00:00\n",
            "2025-03-09 22:00:40.481 | DEBUG    | fused.core._cache:_cache:342 - Reading cache for table_to_tile under ff00bc5b-fcec-44f1-99b8-65189dede0ed\n",
            "2025-03-09 22:00:40.492 | DEBUG    | fused.core._cache:_read_cache_log:237 - Recent cache entry found in /tmp/cached_data/table_to_tile/data_10b2123e07390fb104f87801035921933e9ac0a904c197e6384f3b3d55e90251/index.log: '2025-03-10T08:57:50.418333+00:00', '4bf52bb1-2f22-4932-9fe7-fab5e41b9820', 'd'\n",
            "2025-03-09 22:00:40.505 | DEBUG    | fused.core._cache:_cache:338 - Detected status is d and expiration is 2025-03-10 08:57:50.418333+00:00\n",
            "2025-03-09 22:00:40.508 | DEBUG    | fused.core._cache:_cache:342 - Reading cache for table_to_tile under 4bf52bb1-2f22-4932-9fe7-fab5e41b9820\n",
            "2025-03-09 22:00:40.511 | DEBUG    | fused.core._cache:_read_cache_log:237 - Recent cache entry found in /tmp/cached_data/table_to_tile/data_36fc7a2cf2fb3dee4fad3acbf0456ecca0df5967eab1c635d99925997722c2eb/index.log: '2025-03-10T08:57:50.435396+00:00', 'fe23e314-2ce8-4c2f-947f-4f9d289957dd', 'd'\n",
            "2025-03-09 22:00:40.520 | DEBUG    | fused.core._cache:_cache:338 - Detected status is d and expiration is 2025-03-10 08:57:50.435396+00:00\n",
            "2025-03-09 22:00:40.519 | DEBUG    | fused.core._cache:_read_cache_log:237 - Recent cache entry found in /tmp/cached_data/table_to_tile/data_1d392a5b828009c41f4558befc4a12f122cb68b773b3b979171cfb9e8ea4dd36/index.log: '2025-03-10T08:57:50.456243+00:00', '748fccf3-bd42-4300-9c9d-a61e78c5c6c3', 'd'\n",
            "2025-03-09 22:00:40.526 | DEBUG    | fused.core._cache:_cache:338 - Detected status is d and expiration is 2025-03-10 08:57:50.456243+00:00\n",
            "2025-03-09 22:00:40.534 | DEBUG    | fused.core._cache:_cache:342 - Reading cache for table_to_tile under 748fccf3-bd42-4300-9c9d-a61e78c5c6c3\n",
            "2025-03-09 22:00:40.521 | DEBUG    | fused.core._cache:_cache:342 - Reading cache for table_to_tile under fe23e314-2ce8-4c2f-947f-4f9d289957dd\n",
            "2025-03-09 22:00:40.535 | DEBUG    | fused.core._cache:_read_cache_log:237 - Recent cache entry found in /tmp/cached_data/table_to_tile/data_1b81223b5e5c71cc88b61064a7dc8a8df8fdf597a691f3605e62b8043ab858f6/index.log: '2025-03-10T08:57:50.469035+00:00', 'cfdaa658-1b32-447c-8c82-a4afec34fbf9', 'd'\n",
            "2025-03-09 22:00:40.539 | DEBUG    | fused.core._cache:_cache:338 - Detected status is d and expiration is 2025-03-10 08:57:50.469035+00:00\n",
            "2025-03-09 22:00:40.540 | DEBUG    | fused.core._cache:_cache:342 - Reading cache for table_to_tile under cfdaa658-1b32-447c-8c82-a4afec34fbf9\n",
            "2025-03-09 22:00:40.559 | DEBUG    | fused.core._cache:_read_cache_log:237 - Recent cache entry found in /tmp/cached_data/table_to_tile/data_cf431e390e1839b8f9202df1c132269eabc05443e22f655565db0e99ec6ff02a/index.log: '2025-03-10T08:57:50.478312+00:00', '6adc5ba0-9c0e-4887-a798-4e1f497b0644', 'd'\n",
            "2025-03-09 22:00:40.560 | DEBUG    | fused.core._cache:_cache:338 - Detected status is d and expiration is 2025-03-10 08:57:50.478312+00:00\n",
            "2025-03-09 22:00:40.561 | DEBUG    | fused.core._cache:_cache:342 - Reading cache for table_to_tile under 6adc5ba0-9c0e-4887-a798-4e1f497b0644\n"
          ]
        },
        {
          "output_type": "stream",
          "name": "stdout",
          "text": [
            "                                    id  \\\n",
            "1880  08b4446425010fff0200ec116754b5ad   \n",
            "1881  08b4446425011fff0200415569d27fc5   \n",
            "1882  08b4446425013fff0200ff1be4e6f27d   \n",
            "1883  08b444642518bfff020044394b43c546   \n",
            "1884  08b44464250a5fff020090075cfb62f5   \n",
            "\n",
            "                                               geometry  \\\n",
            "1880  POLYGON ((-90.0813514000000026 29.945266700000...   \n",
            "1881  POLYGON ((-90.0816563000000059 29.945435499999...   \n",
            "1882  POLYGON ((-90.0810781319999592 29.946035517000...   \n",
            "1883  POLYGON ((-90.0809997000000067 29.944935399999...   \n",
            "1884  POLYGON ((-90.0804794000000015 29.945232399999...   \n",
            "\n",
            "                                                   bbox  version  \\\n",
            "1880  {'xmin': -90.08163452148438, 'xmax': -90.08125...        0   \n",
            "1881  {'xmin': -90.0817642211914, 'xmax': -90.081550...        0   \n",
            "1882  {'xmin': -90.08155059814453, 'xmax': -90.08065...        0   \n",
            "1883  {'xmin': -90.08100128173828, 'xmax': -90.08010...        0   \n",
            "1884  {'xmin': -90.08077239990234, 'xmax': -90.08046...        0   \n",
            "\n",
            "                                                sources  level      subtype  \\\n",
            "1880  [{'property': '', 'dataset': 'OpenStreetMap', ...    NaN  residential   \n",
            "1881  [{'property': '', 'dataset': 'OpenStreetMap', ...    NaN  residential   \n",
            "1882  [{'property': '', 'dataset': 'Esri Community M...    NaN         None   \n",
            "1883  [{'property': '', 'dataset': 'OpenStreetMap', ...    NaN  residential   \n",
            "1884  [{'property': '', 'dataset': 'OpenStreetMap', ...    NaN         None   \n",
            "\n",
            "            class     height names  ...  min_height  min_floor  facade_color  \\\n",
            "1880        house        NaN  None  ...         NaN        NaN          None   \n",
            "1881        house   3.781983  None  ...         NaN        NaN          None   \n",
            "1882         None   7.389309  None  ...         NaN        NaN          None   \n",
            "1883  residential  12.115545  None  ...         NaN        NaN          None   \n",
            "1884         None   4.944399  None  ...         NaN        NaN          None   \n",
            "\n",
            "      facade_material  roof_material  roof_shape roof_direction  \\\n",
            "1880             None           None        None            NaN   \n",
            "1881             None           None        None            NaN   \n",
            "1882             None           None        None            NaN   \n",
            "1883             None           None        None            NaN   \n",
            "1884             None           None        None            NaN   \n",
            "\n",
            "     roof_orientation roof_color roof_height  \n",
            "1880             None       None         NaN  \n",
            "1881             None       None         NaN  \n",
            "1882             None       None         NaN  \n",
            "1883             None       None         NaN  \n",
            "1884             None       None         NaN  \n",
            "\n",
            "[5 rows x 24 columns]\n"
          ]
        },
        {
          "output_type": "stream",
          "name": "stderr",
          "text": [
            "<ipython-input-34-8b9b79378c6e>:8: UserWarning: Geometry column does not contain geometry.\n",
            "  gdf['geometry'] = gdf['geometry'].apply(shapely.wkt.dumps)\n"
          ]
        }
      ],
      "source": [
        "def get_buildings(bounds, overture_type):\n",
        "    overture_utils = fused.load(\"https://github.com/fusedio/udfs/tree/ee9bec5/public/Overture_Maps_Example/\").utils # Load pinned versions of utility functions.\n",
        "    gdf = overture_utils.get_overture(bbox=bounds, overture_type=overture_type, min_zoom=0)\n",
        "    if gdf is None or gdf.empty:\n",
        "        return pd.DataFrame({})\n",
        "    if gdf.crs != \"EPSG:4326\":\n",
        "          gdf.to_crs(\"EPSG:4326\")\n",
        "    gdf['geometry'] = gdf['geometry'].apply(shapely.wkt.dumps)\n",
        "    return pd.DataFrame(gdf)\n",
        "df_buildings = get_buildings(bounds=bounds, overture_type=\"building\")\n",
        "print(df_buildings.head())"
      ]
    },
    {
      "cell_type": "markdown",
      "source": [
        "We need to use a constant resolution for the H3 transformations, I suggest between 13 and 15 for this exercise. Although if you don't mind less precision, lowering the resolution would give you a buffer around buildings."
      ],
      "metadata": {
        "id": "hZ2vUFvfvMzz"
      }
    },
    {
      "cell_type": "code",
      "execution_count": null,
      "metadata": {
        "id": "Q_0itn4YshOi"
      },
      "outputs": [],
      "source": [
        "resolution = 13"
      ]
    },
    {
      "cell_type": "markdown",
      "source": [
        "Here we use DuckDB with the necessary extensions loaded with Fused common utilities. Since `h3_polygon_wkt_to_cells` returns an array, we need to use a CTE. At the end we are grouping by the Overture buildings GERS ID.\n",
        "\n",
        "There is a new DuckDB function called `h3_polygon_wkt_to_cells_experimental` with an updated algorythm but I have not had success with it yet."
      ],
      "metadata": {
        "id": "kYilWvr0vxDe"
      }
    },
    {
      "cell_type": "code",
      "execution_count": null,
      "metadata": {
        "colab": {
          "base_uri": "https://localhost:8080/",
          "height": 174,
          "referenced_widgets": [
            "c8475cba29424c8093fd8f5c1d6d5be6",
            "35830df3f39643a1a4c03f9ebf166b14",
            "3dfa9ad20319407a9868e4ddf85ada98"
          ]
        },
        "id": "hKt6zX07shOi",
        "outputId": "c20c0bb6-0f4d-4c14-833f-41360ef27b7e"
      },
      "outputs": [
        {
          "output_type": "stream",
          "name": "stdout",
          "text": [
            "duckdb version: 1.1.3\n"
          ]
        },
        {
          "output_type": "display_data",
          "data": {
            "text/plain": [
              "FloatProgress(value=0.0, layout=Layout(width='auto'), style=ProgressStyle(bar_color='black'))"
            ],
            "application/vnd.jupyter.widget-view+json": {
              "version_major": 2,
              "version_minor": 0,
              "model_id": "c8475cba29424c8093fd8f5c1d6d5be6"
            }
          },
          "metadata": {}
        },
        {
          "output_type": "stream",
          "name": "stdout",
          "text": [
            "                                 id                 hex\n",
            "0  08b4446425010fff0200ec116754b5ad  636208644274326207\n",
            "1  08b4446425010fff0200ec116754b5ad  636208644274326463\n",
            "2  08b4446425010fff0200ec116754b5ad  636208644274326143\n",
            "3  08b4446425010fff0200ec116754b5ad  636208644274323839\n",
            "4  08b4446425010fff0200ec116754b5ad  636208644274326271\n"
          ]
        }
      ],
      "source": [
        "def polyfill_buildings(df, resolution):\n",
        "    utils = fused.load(\"https://github.com/fusedio/udfs/tree/ee9bec5/public/common/\").utils\n",
        "    # Connect to DuckDB\n",
        "    con = utils.duckdb_connect()\n",
        "    query=f\"\"\"\n",
        "    with buildings_to_cells as (\n",
        "        select\n",
        "            id,\n",
        "            unnest(h3_polygon_wkt_to_cells(geometry, {resolution})) as hex\n",
        "        from df\n",
        "    )\n",
        "    select\n",
        "        id,\n",
        "        hex\n",
        "    from buildings_to_cells b\n",
        "    group by 1, 2\n",
        "    \"\"\"\n",
        "    return con.sql(query).df()\n",
        "\n",
        "df_buildings_h3 = polyfill_buildings(df=df_buildings, resolution=resolution)\n",
        "print(df_buildings_h3.head())"
      ]
    },
    {
      "cell_type": "markdown",
      "source": [
        "Now that we have Overture buildings as cells with IDs we can join with the Foursquare places using `h3_latlng_to_cell` in the DuckDB join condition to filter for points inside the buildings using the same H3 resolution."
      ],
      "metadata": {
        "id": "gaJs6pjWwgIG"
      }
    },
    {
      "cell_type": "code",
      "execution_count": null,
      "metadata": {
        "colab": {
          "base_uri": "https://localhost:8080/"
        },
        "id": "AfrlNgpIshOi",
        "outputId": "e98ec849-2a70-4351-81cd-75e988a4cb39"
      },
      "outputs": [
        {
          "output_type": "stream",
          "name": "stdout",
          "text": [
            "duckdb version: 1.1.3\n",
            "               overture_building_id                                 name  \\\n",
            "0  08b4446420a9dfff020071ad1dd9b831  French Quarter Business Association   \n",
            "1  08b4446420a9dfff020071ad1dd9b831                    French Connection   \n",
            "2  08b4446420a9dfff020071ad1dd9b831                        Vip city tour   \n",
            "3  08b4446420a9dfff020071ad1dd9b831                        Urban Systems   \n",
            "4  08b4446420a9dfff020071ad1dd9b831                                  H&M   \n",
            "\n",
            "       level1_category_name level2_category_name     level3_category_name  \\\n",
            "0  Community and Government         Organization  Non-Profit Organization   \n",
            "1                    Retail       Fashion Retail            Women's Store   \n",
            "2                      None                 None                     None   \n",
            "3    Landmarks and Outdoors            Structure                     None   \n",
            "4                    Retail       Fashion Retail            Women's Store   \n",
            "\n",
            "           fsq_category_ids                    geometry  \n",
            "0  50328a8e91d4c4b30a586d6c  POINT (-90.06421 29.95441)  \n",
            "1  4bf58dd8d48988d108951735  POINT (-90.06426 29.95446)  \n",
            "2                      None  POINT (-90.06449 29.95433)  \n",
            "3  4bf58dd8d48988d130941735   POINT (-90.06445 29.9542)  \n",
            "4  4bf58dd8d48988d108951735  POINT (-90.06424 29.95481)  \n"
          ]
        }
      ],
      "source": [
        "def join_h3_buildings_with_fsq(df_buildings_h3, df_fsq, resolution):\n",
        "    # Load pinned versions of utility functions.\n",
        "    utils = fused.load(\"https://github.com/fusedio/udfs/tree/ee9bec5/public/common/\").utils\n",
        "    # Connect to DuckDB\n",
        "    con = utils.duckdb_connect()\n",
        "\n",
        "    query = f\"\"\"\n",
        "        select\n",
        "          b.id as overture_building_id,\n",
        "          f.name,\n",
        "          f.geometry as geometry_wkt,\n",
        "          f.level1_category_name,\n",
        "          f.level2_category_name,\n",
        "          f.level3_category_name,\n",
        "          f.fsq_category_ids\n",
        "        from df_buildings_h3 b inner join df_fsq f\n",
        "        on b.hex = h3_latlng_to_cell(f.lat, f.lng, {resolution})\n",
        "    \"\"\"\n",
        "\n",
        "    # Run the query and return a GeoDataFrame\n",
        "    df = con.sql(query).df()\n",
        "    return gpd.GeoDataFrame(df.drop(columns=['geometry_wkt']), geometry=df.geometry_wkt.apply(shapely.wkt.loads))\n",
        "\n",
        "gdf_fsq_in_buildings = join_h3_buildings_with_fsq(df_buildings_h3, df_fsq, resolution)\n",
        "print(gdf_fsq_in_buildings.head())"
      ]
    },
    {
      "cell_type": "markdown",
      "source": [
        "As you can see above, now every POI has a building ID."
      ],
      "metadata": {
        "id": "_blRoBd2xGOt"
      }
    },
    {
      "cell_type": "markdown",
      "source": [
        "In order to visualize with pydeck we need to convert the point geometry."
      ],
      "metadata": {
        "id": "x87Yi07lxFWM"
      }
    },
    {
      "cell_type": "code",
      "execution_count": null,
      "metadata": {
        "id": "G86V7MjNshOi"
      },
      "outputs": [],
      "source": [
        "gdf_fsq_in_buildings[\"pydeck_geometry\"] = [[c.x, c.y] for c in gdf_fsq_in_buildings[\"geometry\"]]"
      ]
    },
    {
      "cell_type": "markdown",
      "source": [
        "Further prep for pydeck involves converting the H3 integer (which is more efficient for the transformations) to the string."
      ],
      "metadata": {
        "id": "kdLEPAa6xpJt"
      }
    },
    {
      "cell_type": "code",
      "execution_count": null,
      "metadata": {
        "id": "xmBLPipCshOi"
      },
      "outputs": [],
      "source": [
        "# pydeck needs the H3 string so we convert\n",
        "df_buildings_h3['hex'] = df_buildings_h3['hex'].apply(h3.int_to_str)"
      ]
    },
    {
      "cell_type": "markdown",
      "source": [
        "This vizualizes the building cells and POIs within them."
      ],
      "metadata": {
        "id": "DSWzEwf9yDUL"
      }
    },
    {
      "cell_type": "code",
      "execution_count": null,
      "metadata": {
        "id": "5hhxhtogshOj"
      },
      "outputs": [],
      "source": [
        "#Layer for FSQ Places we joined wit H3 Overture buildings\n",
        "fsq_joined_layer = pdk.Layer(\n",
        "    \"ScatterplotLayer\",\n",
        "    gdf_fsq_in_buildings,\n",
        "    pickable=True,\n",
        "    stroked=False,\n",
        "    filled=True,\n",
        "    line_width_min_pixels=1,\n",
        "    get_position=\"pydeck_geometry\",\n",
        "    get_fill_color=[255, 140, 0],\n",
        "    radius_min_pixels=3,\n",
        "    opacity=0.8,\n",
        ")\n",
        "\n",
        "# Layer for the polyfilled buildings\n",
        "building_h3_layer = pdk.Layer(\n",
        "    \"H3HexagonLayer\",\n",
        "    data=df_buildings_h3,\n",
        "    get_hexagon=\"hex\",\n",
        "    stroked=False,\n",
        "    get_fill_color=[0, 255, 255],\n",
        "    coverage=1,\n",
        "    extruded=False,\n",
        "    pickable=True,\n",
        "    opacity=0.3\n",
        ")\n",
        "\n",
        "# Set view state\n",
        "view_state = pdk.ViewState(\n",
        "    latitude=df_fsq[\"lat\"].mean(),\n",
        "    longitude=df_fsq[\"lng\"].mean(),\n",
        "    zoom=14,\n",
        ")\n",
        "\n",
        "# Create the map\n",
        "r = pdk.Deck(layers=[building_h3_layer, fsq_joined_layer], initial_view_state=view_state)\n",
        "r.show()"
      ]
    },
    {
      "cell_type": "markdown",
      "source": [
        "## Let me know what you think!\n",
        "\n",
        "Find me on [LinkedIn](https://www.linkedin.com/in/stephen-kent-37b97454)"
      ],
      "metadata": {
        "id": "TkGsRWwW0Txn"
      }
    }
  ],
  "metadata": {
    "kernelspec": {
      "display_name": "fsq_buildings_env",
      "language": "python",
      "name": "python3"
    },
    "language_info": {
      "codemirror_mode": {
        "name": "ipython",
        "version": 3
      },
      "file_extension": ".py",
      "mimetype": "text/x-python",
      "name": "python",
      "nbconvert_exporter": "python",
      "pygments_lexer": "ipython3",
      "version": "3.11.11"
    },
    "colab": {
      "provenance": [],
      "include_colab_link": true
    },
    "widgets": {
      "application/vnd.jupyter.widget-state+json": {
        "c8475cba29424c8093fd8f5c1d6d5be6": {
          "model_module": "@jupyter-widgets/controls",
          "model_name": "FloatProgressModel",
          "model_module_version": "1.5.0",
          "state": {
            "_dom_classes": [],
            "_model_module": "@jupyter-widgets/controls",
            "_model_module_version": "1.5.0",
            "_model_name": "FloatProgressModel",
            "_view_count": null,
            "_view_module": "@jupyter-widgets/controls",
            "_view_module_version": "1.5.0",
            "_view_name": "ProgressView",
            "bar_style": "",
            "description": "",
            "description_tooltip": null,
            "layout": "IPY_MODEL_35830df3f39643a1a4c03f9ebf166b14",
            "max": 100,
            "min": 0,
            "orientation": "horizontal",
            "style": "IPY_MODEL_3dfa9ad20319407a9868e4ddf85ada98",
            "value": 100
          }
        },
        "35830df3f39643a1a4c03f9ebf166b14": {
          "model_module": "@jupyter-widgets/base",
          "model_name": "LayoutModel",
          "model_module_version": "1.2.0",
          "state": {
            "_model_module": "@jupyter-widgets/base",
            "_model_module_version": "1.2.0",
            "_model_name": "LayoutModel",
            "_view_count": null,
            "_view_module": "@jupyter-widgets/base",
            "_view_module_version": "1.2.0",
            "_view_name": "LayoutView",
            "align_content": null,
            "align_items": null,
            "align_self": null,
            "border": null,
            "bottom": null,
            "display": null,
            "flex": null,
            "flex_flow": null,
            "grid_area": null,
            "grid_auto_columns": null,
            "grid_auto_flow": null,
            "grid_auto_rows": null,
            "grid_column": null,
            "grid_gap": null,
            "grid_row": null,
            "grid_template_areas": null,
            "grid_template_columns": null,
            "grid_template_rows": null,
            "height": null,
            "justify_content": null,
            "justify_items": null,
            "left": null,
            "margin": null,
            "max_height": null,
            "max_width": null,
            "min_height": null,
            "min_width": null,
            "object_fit": null,
            "object_position": null,
            "order": null,
            "overflow": null,
            "overflow_x": null,
            "overflow_y": null,
            "padding": null,
            "right": null,
            "top": null,
            "visibility": null,
            "width": "auto"
          }
        },
        "3dfa9ad20319407a9868e4ddf85ada98": {
          "model_module": "@jupyter-widgets/controls",
          "model_name": "ProgressStyleModel",
          "model_module_version": "1.5.0",
          "state": {
            "_model_module": "@jupyter-widgets/controls",
            "_model_module_version": "1.5.0",
            "_model_name": "ProgressStyleModel",
            "_view_count": null,
            "_view_module": "@jupyter-widgets/base",
            "_view_module_version": "1.2.0",
            "_view_name": "StyleView",
            "bar_color": "black",
            "description_width": ""
          }
        }
      }
    }
  },
  "nbformat": 4,
  "nbformat_minor": 0
}